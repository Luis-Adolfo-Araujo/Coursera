{
  "metadata": {
    "kernelspec": {
      "name": "python",
      "display_name": "Python (Pyodide)",
      "language": "python"
    },
    "language_info": {
      "codemirror_mode": {
        "name": "python",
        "version": 3
      },
      "file_extension": ".py",
      "mimetype": "text/x-python",
      "name": "python",
      "nbconvert_exporter": "python",
      "pygments_lexer": "ipython3",
      "version": "3.8"
    }
  },
  "nbformat_minor": 4,
  "nbformat": 4,
  "cells": [
    {
      "cell_type": "markdown",
      "source": " This notebook contains my exploration and work in the field of Computer Science and Data Science. Feel free to browse through the sections and connect with me for any insights or collaborations!\n\n--- created by Luis Adolfo at coursera tools for data science course",
      "metadata": {}
    },
    {
      "cell_type": "markdown",
      "source": " Introduction to My Notebook\n\n Welcome to my Jupyter Notebook! This space encapsulates my journey in Computer Science and Data Science, blending academic insights with hands-on experiences. Join me as I explore the fascinating intersection of technology and data.\n\n Feel free to navigate through the sections and connect with me for any discussions or collaborations.\n\n ---\n\n *Created by Luis Adolfo*\n",
      "metadata": {}
    },
    {
      "cell_type": "markdown",
      "source": " 1. **Python**: A versatile and widely-used language with rich libraries like Pandas and NumPy for data manipulation and analysis.\n 2. **R**: Known for its statistical capabilities, R is popular in academia and industry for data visualization and statistical modeling.\n 3. **SQL**: Essential for working with databases, SQL is crucial for data retrieval, manipulation, and analysis.\n 4. **Julia**: Gaining traction for its speed and performance, Julia is becoming a go-to language for complex numerical and scientific computing tasks.",
      "metadata": {}
    },
    {
      "cell_type": "markdown",
      "source": " 1. **Pandas**: A versatile library for data manipulation and analysis in Python, providing data structures like DataFrames.\n 2. **NumPy**: The fundamental package for scientific computing in Python, enabling efficient array operations and mathematical functions.\n 3. **Matplotlib**: A popular plotting library for creating static, animated, and interactive visualizations in Python.\n 4. **Seaborn**: Built on top of Matplotlib, Seaborn enhances data visualization with an easy-to-use interface.\n 5. **Scikit-learn**: A comprehensive machine learning library offering simple and efficient tools for data mining and data analysis.\n 6. **TensorFlow**: An open-source machine learning framework for high-performance numerical computations, widely used for deep learning applications.\n 7. **Keras**: An interface for TensorFlow, making it easy to build and experiment with neural networks.",
      "metadata": {}
    },
    {
      "cell_type": "markdown",
      "source": " | Tool          | Description                                           | Language          |\n |---------------|-------------------------------------------------------|-------------------|\n | Pandas        | Data manipulation and analysis library                | Python            |\n | NumPy         | Fundamental package for scientific computing          | Python            |\n | Matplotlib    | Plotting library for creating visualizations          | Python            |\n | Seaborn       | Data visualization library built on Matplotlib        | Python            |\n | Scikit-learn  | Machine learning library for data mining and analysis | Python            |\n | TensorFlow    | Open-source machine learning framework                 | Python            |\n | Keras         | High-level neural networks API                         | Python            |\n | R             | Statistical computing and graphics                     | R                 |\n | SQL           | Query language for managing and analyzing data        | SQL               |\n | Julia         | High-performance language for technical computing     | Julia             |\n",
      "metadata": {}
    },
    {
      "cell_type": "markdown",
      "source": " | Expression          | Result  |\n |---------------------|---------|\n | `5 + 3`             | 8       |\n | `10 - 4`            | 6       |\n | `3 * 6`             | 18      |\n | `15 / 3`            | 5.0     |\n | `7 // 2`            | 3       |\n | `8 % 3`             | 2       |\n | `2 ** 4`            | 16      |",
      "metadata": {}
    },
    {
      "cell_type": "markdown",
      "source": "# Code Cell: Multiplication and Addition\n\n# Define two numbers\nnumber1 = 5\nnumber2 = 8\n\n# Perform multiplication\nresult_multiply = number1 * number2\n\n# Perform addition\nresult_addition = number1 + number2\n\n# Display the results\nprint(f\"Multiplication Result: {result_multiply}\")\nprint(f\"Addition Result: {result_addition}\")",
      "metadata": {}
    },
    {
      "cell_type": "markdown",
      "source": "# Code Cell: Convert Minutes to Hours\n\nminutes = 120\n\nhours = minutes / 60\n\nprint(f\"{minutes} minutes is equal to {hours} hours.\")",
      "metadata": {}
    },
    {
      "cell_type": "markdown",
      "source": "**Markdown**: A lightweight markup language that's easy to read and write.\n- **Jupyter Notebooks**: An interactive computing environment, perfect for data science and analysis.\n- **Unordered Lists**: Created using asterisks `*`, plus `+`, or hyphens `-`.",
      "metadata": {}
    },
    {
      "cell_type": "markdown",
      "source": "\n**Author:** Luis Adolfo",
      "metadata": {}
    }
  ]
}